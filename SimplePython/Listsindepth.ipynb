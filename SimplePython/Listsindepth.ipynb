{
 "cells": [
  {
   "cell_type": "code",
   "execution_count": 1,
   "metadata": {},
   "outputs": [
    {
     "name": "stdout",
     "output_type": "stream",
     "text": [
      "item number  0 is  1\n",
      "item number  1 is  2\n",
      "item number  2 is  3\n",
      "item number  3 is  a\n",
      "item number  4 is  b\n",
      "item number  5 is  c\n",
      "Another way to enumerate using a list 'method'...\n",
      "item 1 has index 0\n",
      "item 2 has index 1\n",
      "item 3 has index 2\n",
      "item a has index 3\n",
      "item b has index 4\n",
      "item c has index 5\n"
     ]
    }
   ],
   "source": [
    "#list\n",
    "\n",
    "lst = [1, 2, 3, 'a', 'b', 'c']\n",
    "\n",
    "# Enumerate\n",
    "\n",
    "for i, item in enumerate(lst):\n",
    "    print(\"item number \", i, \"is \", item)\n",
    "\n",
    "print(\"Another way to enumerate using a list 'method'...\")\n",
    "for item in lst:\n",
    "    index = lst.index(item)\n",
    "    print(\"item\", item, \"has index\", index)"
   ]
  },
  {
   "cell_type": "code",
   "execution_count": 2,
   "metadata": {},
   "outputs": [
    {
     "name": "stdout",
     "output_type": "stream",
     "text": [
      "[0, 1, 2, 3, 4, 5, 6, 7, 8, 9]\n"
     ]
    }
   ],
   "source": [
    "# list Comprehensions\n",
    "'''\n",
    "pythons way of creating lists in a pythonic way (compact and readable)\n",
    "'''\n",
    "\n",
    "rangeOf10 = [num for num in range(10)]\n",
    "print(rangeOf10)"
   ]
  },
  {
   "cell_type": "code",
   "execution_count": null,
   "metadata": {},
   "outputs": [],
   "source": [
    "# The above is equivalent to the following just more compact:\n",
    "numbers_0_to_9 = []\n",
    "for x in range(10):\n",
    "    numbers_0_to_9.append(x)\n",
    "print(\"Numbers 0 to 9\", numbers_0_to_9)"
   ]
  },
  {
   "cell_type": "code",
   "execution_count": null,
   "metadata": {},
   "outputs": [],
   "source": [
    "# You can also choose to do computation / flow control when generating\n",
    "# lists\n",
    "squares = [x * x for x in range(10)]\n",
    "print(\"Squares       \", squares)"
   ]
  },
  {
   "cell_type": "code",
   "execution_count": null,
   "metadata": {},
   "outputs": [],
   "source": [
    "# note - this example uses the \"modulo\" operator\n",
    "odds = [x for x in range(10) if x % 2 == 1]\n",
    "print(\"Odds          \", odds)"
   ]
  },
  {
   "cell_type": "code",
   "execution_count": 9,
   "metadata": {},
   "outputs": [
    {
     "name": "stdout",
     "output_type": "stream",
     "text": [
      "name:   Andy\n",
      "age:    30\n",
      "gender: m\n"
     ]
    }
   ],
   "source": [
    "# Import the module collections and be able to access namedtuple\n",
    "# wihtout having to write collections.namedtuple each time.\n",
    "from collections import namedtuple\n",
    "# Create a tuple of class 'Person'\n",
    "Person = namedtuple(\"Person\", [\"name\", \"age\", \"gender\"])\n",
    "\n",
    "# Build a list of people by using Person\n",
    "people = [\n",
    "    Person(\"Andy\", 30, \"m\"),\n",
    "    Person(\"Ping\", 1, \"m\"), \n",
    "    Person(\"Tina\", 32, \"f\"),\n",
    "    Person(\"Abby\", 14, \"f\"),\n",
    "    Person(\"Adah\", 13, \"f\"),\n",
    "    Person(\"Sebastian\", 42, \"m\"),\n",
    "    Person(\"Carol\" , 68, \"f\"),\n",
    "]\n",
    "\n",
    "# first, let's show how this namedtuple works.\n",
    "# Get the first entry in the list (which is Andy from above)\n",
    "andy = people[0]\n",
    "\n",
    "# From here, you can access andy like it was a class with attributes\n",
    "# name, age, and gender (as seeon from the namedtuple)\n",
    "print(\"name:  \", andy.name)\n",
    "print(\"age:   \", andy.age)\n",
    "print(\"gender:\", andy.gender)"
   ]
  },
  {
   "cell_type": "code",
   "execution_count": 12,
   "metadata": {},
   "outputs": [
    {
     "name": "stdout",
     "output_type": "stream",
     "text": [
      "Female Names:  ['Tina', 'Abby', 'Adah', 'Carol']\n"
     ]
    }
   ],
   "source": [
    "# now let's sort for all female names\n",
    "female_names = [person.name for person in people if person.gender == \"f\"]\n",
    "print('Female Names: ', female_names)"
   ]
  },
  {
   "cell_type": "code",
   "execution_count": 13,
   "metadata": {},
   "outputs": [
    {
     "name": "stdout",
     "output_type": "stream",
     "text": [
      "Teen Names:  ['Abby', 'Adah']\n"
     ]
    }
   ],
   "source": [
    "teen_names = [p.name for p in people if p.age > 12 and p.age < 18]\n",
    "print('Teen Names: ', teen_names)"
   ]
  },
  {
   "cell_type": "code",
   "execution_count": null,
   "metadata": {},
   "outputs": [],
   "source": []
  }
 ],
 "metadata": {
  "kernelspec": {
   "display_name": "Python 3",
   "language": "python",
   "name": "python3"
  },
  "language_info": {
   "codemirror_mode": {
    "name": "ipython",
    "version": 3
   },
   "file_extension": ".py",
   "mimetype": "text/x-python",
   "name": "python",
   "nbconvert_exporter": "python",
   "pygments_lexer": "ipython3",
   "version": "3.7.7"
  }
 },
 "nbformat": 4,
 "nbformat_minor": 4
}
