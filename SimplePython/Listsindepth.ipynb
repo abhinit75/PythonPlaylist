{
 "cells": [
  {
   "cell_type": "code",
   "execution_count": null,
   "metadata": {},
   "outputs": [],
   "source": [
    "#list\n",
    "'''\n",
    "lst = [1, 2, 3, 'a', 'b', 'c']\n",
    "\n",
    "# Enumerate\n",
    "\n",
    "for i, item in enumerate(lst):\n",
    "    print(\"item number \", i, \"is \", item)\n",
    "\n",
    "print(\"Another way to enumerate using a list 'method'...\")\n",
    "for item in lst:\n",
    "    index = lst.index(item)\n",
    "    print(\"item\", item, \"has index\", index)\n",
    "\n",
    "'''\n",
    "\n",
    "# list Comprehensions\n",
    "'''\n",
    "pythons way of creating lists in a pythonic way (compact and readable)\n",
    "'''\n",
    "\n",
    "rangeOf10 = [num for num in range(10)]\n",
    "print(rangeOf10)\n"
   ]
  }
 ],
 "metadata": {
  "kernelspec": {
   "display_name": "Python 3",
   "language": "python",
   "name": "python3"
  },
  "language_info": {
   "codemirror_mode": {
    "name": "ipython",
    "version": 3
   },
   "file_extension": ".py",
   "mimetype": "text/x-python",
   "name": "python",
   "nbconvert_exporter": "python",
   "pygments_lexer": "ipython3",
   "version": "3.7.7"
  }
 },
 "nbformat": 4,
 "nbformat_minor": 4
}
